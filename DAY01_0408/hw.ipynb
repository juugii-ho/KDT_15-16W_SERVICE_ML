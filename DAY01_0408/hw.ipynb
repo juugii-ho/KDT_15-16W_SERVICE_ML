{
 "cells": [
  {
   "cell_type": "code",
   "execution_count": 1,
   "metadata": {},
   "outputs": [],
   "source": [
    "import pandas as pd\n",
    "import numpy as np\n",
    "\n",
    "import torch\n",
    "import torch.nn as nn\n",
    "import torch.nn.functional as F\n",
    "import torch.optim as optim\n",
    "import torchmetrics.functional as metrics\n",
    "from torch.utils.data import Dataset, DataLoader, random_split\n",
    "import cv2\n",
    "import matplotlib.pyplot as plt\n",
    "from torchvision import transforms\n",
    "from torchvision.datasets import ImageFolder\n"
   ]
  },
  {
   "cell_type": "code",
   "execution_count": 2,
   "metadata": {},
   "outputs": [
    {
     "name": "stderr",
     "output_type": "stream",
     "text": [
      "[ WARN:0@0.027] global loadsave.cpp:248 findDecoder imread_('../../Data/albumart/3824.jpg'): can't open/read file: check file path/integrity\n"
     ]
    }
   ],
   "source": [
    "image_path = '../../Data/albumart/'\n",
    "\n",
    "image = '3824.jpg'\n",
    "\n",
    "image_path+image\n",
    "\n",
    "cv2.imread(image_path+image)"
   ]
  },
  {
   "cell_type": "code",
   "execution_count": 3,
   "metadata": {},
   "outputs": [],
   "source": [
    "trans = transforms.Compose([transforms.Resize((25,25)),\n",
    "                    transforms.ToTensor(),\n",
    "                    transforms.Normalize((0.5,0.5,0.5),(0.5,0.5,0.5))\n",
    "                    ])"
   ]
  },
  {
   "cell_type": "code",
   "execution_count": 4,
   "metadata": {},
   "outputs": [
    {
     "data": {
      "text/plain": [
       "Dataset ImageFolder\n",
       "    Number of datapoints: 84\n",
       "    Root location: ../../Data/albumart/\n",
       "    StandardTransform\n",
       "Transform: Compose(\n",
       "               Resize(size=(25, 25), interpolation=bilinear, max_size=None, antialias=True)\n",
       "               ToTensor()\n",
       "               Normalize(mean=(0.5, 0.5, 0.5), std=(0.5, 0.5, 0.5))\n",
       "           )"
      ]
     },
     "execution_count": 4,
     "metadata": {},
     "output_type": "execute_result"
    }
   ],
   "source": [
    "datasets = ImageFolder(root=image_path, transform = trans)\n",
    "datasets"
   ]
  },
  {
   "cell_type": "code",
   "execution_count": 5,
   "metadata": {},
   "outputs": [
    {
     "data": {
      "text/plain": [
       "(['1990', '2000', '2010'],\n",
       " {'1990': 0, '2000': 1, '2010': 2},\n",
       " [('../../Data/albumart/1990/10291.jpg', 0),\n",
       "  ('../../Data/albumart/1990/10435.jpg', 0),\n",
       "  ('../../Data/albumart/1990/14776.jpg', 0),\n",
       "  ('../../Data/albumart/1990/15247.jpg', 0),\n",
       "  ('../../Data/albumart/1990/17282.jpg', 0)])"
      ]
     },
     "execution_count": 5,
     "metadata": {},
     "output_type": "execute_result"
    }
   ],
   "source": [
    "datasets.classes, datasets.class_to_idx, datasets.imgs[:5]"
   ]
  },
  {
   "cell_type": "code",
   "execution_count": 6,
   "metadata": {},
   "outputs": [
    {
     "data": {
      "text/plain": [
       "(tensor([[[-0.7647, -0.7255, -0.7098,  ..., -0.9216, -0.9451, -0.9608],\n",
       "          [-0.6941, -0.6706, -0.6627,  ..., -0.8902, -0.9137, -0.9373],\n",
       "          [-0.6471, -0.6235, -0.6157,  ..., -0.8588, -0.8824, -0.9137],\n",
       "          ...,\n",
       "          [-0.7569, -0.7255, -0.7333,  ..., -0.8275, -0.8196, -0.8431],\n",
       "          [-0.8118, -0.8039, -0.7961,  ..., -0.8431, -0.8510, -0.8745],\n",
       "          [-0.8510, -0.8510, -0.8353,  ..., -0.8902, -0.8902, -0.8902]],\n",
       " \n",
       "         [[-0.7804, -0.7098, -0.6627,  ..., -0.8824, -0.9294, -0.9608],\n",
       "          [-0.6627, -0.5922, -0.5608,  ..., -0.7961, -0.8431, -0.9059],\n",
       "          [-0.5765, -0.5137, -0.4824,  ..., -0.7412, -0.7804, -0.8431],\n",
       "          ...,\n",
       "          [-0.7961, -0.7490, -0.7333,  ..., -0.7569, -0.7412, -0.7961],\n",
       "          [-0.8667, -0.8510, -0.8196,  ..., -0.8039, -0.8118, -0.8588],\n",
       "          [-0.8980, -0.9059, -0.8824,  ..., -0.8824, -0.8824, -0.8902]],\n",
       " \n",
       "         [[-0.7647, -0.6392, -0.5608,  ..., -0.7804, -0.8745, -0.9373],\n",
       "          [-0.5686, -0.4275, -0.3725,  ..., -0.6235, -0.7098, -0.8275],\n",
       "          [-0.4431, -0.3020, -0.2314,  ..., -0.5294, -0.5922, -0.7176],\n",
       "          ...,\n",
       "          [-0.8118, -0.7333, -0.6941,  ..., -0.6078, -0.6078, -0.6863],\n",
       "          [-0.9137, -0.8824, -0.8353,  ..., -0.6941, -0.7098, -0.7804],\n",
       "          [-0.9451, -0.9608, -0.9373,  ..., -0.8353, -0.8275, -0.8431]]]),\n",
       " 0)"
      ]
     },
     "execution_count": 6,
     "metadata": {},
     "output_type": "execute_result"
    }
   ],
   "source": [
    "datasets.__getitem__(0)"
   ]
  },
  {
   "cell_type": "code",
   "execution_count": 7,
   "metadata": {},
   "outputs": [
    {
     "data": {
      "text/plain": [
       "84"
      ]
     },
     "execution_count": 7,
     "metadata": {},
     "output_type": "execute_result"
    }
   ],
   "source": [
    "len(datasets)"
   ]
  },
  {
   "cell_type": "code",
   "execution_count": 8,
   "metadata": {},
   "outputs": [],
   "source": [
    "seed_gen=torch.Generator().manual_seed(42)\n",
    "\n",
    "trainDS, validDS, testDS = random_split(datasets,\n",
    "                                        [0.7, 0.1, 0.2],\n",
    "                                        generator=seed_gen)"
   ]
  },
  {
   "cell_type": "code",
   "execution_count": 9,
   "metadata": {},
   "outputs": [
    {
     "data": {
      "text/plain": [
       "(59, 9, 16)"
      ]
     },
     "execution_count": 9,
     "metadata": {},
     "output_type": "execute_result"
    }
   ],
   "source": [
    "len(trainDS), len(validDS), len(testDS)"
   ]
  },
  {
   "cell_type": "code",
   "execution_count": 10,
   "metadata": {},
   "outputs": [],
   "source": [
    "TRAIN_DL = DataLoader(trainDS, batch_size=9)\n",
    "VALID_DL = DataLoader(validDS, batch_size=9)\n",
    "TEST_DL = DataLoader(testDS, batch_size=9)\n"
   ]
  },
  {
   "cell_type": "code",
   "execution_count": 11,
   "metadata": {},
   "outputs": [
    {
     "name": "stdout",
     "output_type": "stream",
     "text": [
      "[tensor([[[[ 0.8980,  0.9137,  0.9373,  ...,  0.9608,  0.8667,  0.9216],\n",
      "          [ 0.8980,  0.9294,  0.9451,  ...,  0.9529,  0.8902,  0.8588],\n",
      "          [ 0.9451,  0.9608,  0.9137,  ...,  0.9451,  0.8824,  0.8824],\n",
      "          ...,\n",
      "          [ 0.6392,  0.6392,  0.7333,  ...,  0.8902,  0.8980,  0.9059],\n",
      "          [ 0.4824,  0.5373,  0.5686,  ...,  0.8980,  0.9137,  0.9137],\n",
      "          [ 0.3569,  0.4275,  0.4039,  ...,  0.9216,  0.9137,  0.8824]],\n",
      "\n",
      "         [[ 0.7333,  0.6000,  0.8431,  ...,  0.3647,  0.1608,  0.1059],\n",
      "          [ 0.8039,  0.6392,  0.8745,  ...,  0.1765,  0.0588,  0.0118],\n",
      "          [ 0.9059,  0.7961,  0.7020,  ...,  0.3804,  0.1922,  0.1451],\n",
      "          ...,\n",
      "          [ 0.4667,  0.4667,  0.5216,  ..., -0.0118,  0.0275,  0.2078],\n",
      "          [ 0.4510,  0.4275,  0.4588,  ...,  0.1843,  0.1686,  0.0667],\n",
      "          [ 0.4353,  0.4431,  0.4039,  ...,  0.0431,  0.0510, -0.0039]],\n",
      "\n",
      "         [[ 0.7020,  0.5451,  0.8275,  ..., -0.0824, -0.2157, -0.2784],\n",
      "          [ 0.7961,  0.5608,  0.8510,  ..., -0.2549, -0.3412, -0.3647],\n",
      "          [ 0.8902,  0.7020,  0.4745,  ...,  0.0510, -0.1765, -0.2392],\n",
      "          ...,\n",
      "          [ 0.4353,  0.4431,  0.4667,  ..., -0.5608, -0.4588, -0.1686],\n",
      "          [ 0.4510,  0.3961,  0.4431,  ..., -0.2784, -0.3882, -0.4745],\n",
      "          [ 0.4824,  0.4510,  0.4510,  ..., -0.5843, -0.4196, -0.3725]]],\n",
      "\n",
      "\n",
      "        [[[ 0.5373,  0.3882,  0.2549,  ...,  0.5294,  0.5137,  0.5843],\n",
      "          [ 0.5451,  0.4824,  0.0431,  ...,  0.4431,  0.4118,  0.5765],\n",
      "          [ 0.5529,  0.5216,  0.0118,  ...,  0.4902,  0.4980,  0.6078],\n",
      "          ...,\n",
      "          [ 0.6314,  0.7020,  0.7176,  ...,  0.2863,  0.3882,  0.6314],\n",
      "          [ 0.6392,  0.7020,  0.7176,  ...,  0.6392,  0.2706,  0.3098],\n",
      "          [ 0.5608,  0.6078,  0.6078,  ...,  0.6235,  0.5608,  0.1686]],\n",
      "\n",
      "         [[ 0.5059,  0.3647,  0.2471,  ...,  0.4980,  0.4824,  0.5529],\n",
      "          [ 0.5137,  0.4510,  0.0431,  ...,  0.4275,  0.3961,  0.5529],\n",
      "          [ 0.5294,  0.4902,  0.0039,  ...,  0.4667,  0.4745,  0.5686],\n",
      "          ...,\n",
      "          [ 0.6157,  0.6863,  0.7020,  ...,  0.2706,  0.3882,  0.6157],\n",
      "          [ 0.6078,  0.6706,  0.6863,  ...,  0.6157,  0.2549,  0.3098],\n",
      "          [ 0.5294,  0.5843,  0.5843,  ...,  0.6078,  0.5451,  0.1608]],\n",
      "\n",
      "         [[ 0.5451,  0.3961,  0.2784,  ...,  0.5294,  0.4980,  0.5608],\n",
      "          [ 0.5529,  0.4824,  0.0745,  ...,  0.4510,  0.4196,  0.5608],\n",
      "          [ 0.5608,  0.5294,  0.0431,  ...,  0.4902,  0.4980,  0.5922],\n",
      "          ...,\n",
      "          [ 0.6471,  0.7255,  0.7412,  ...,  0.4353,  0.5137,  0.6549],\n",
      "          [ 0.6392,  0.7098,  0.7255,  ...,  0.6706,  0.4196,  0.4510],\n",
      "          [ 0.5686,  0.6157,  0.6235,  ...,  0.6471,  0.6000,  0.3176]]],\n",
      "\n",
      "\n",
      "        [[[ 0.0745,  0.0667,  0.0667,  ...,  0.0431,  0.0353,  0.0275],\n",
      "          [ 0.0510,  0.0510,  0.0588,  ...,  0.0118,  0.0039, -0.0039],\n",
      "          [ 0.0431,  0.0353,  0.0353,  ...,  0.0039, -0.0118, -0.0118],\n",
      "          ...,\n",
      "          [-0.0039, -0.0118, -0.0196,  ..., -0.0431, -0.0431, -0.0510],\n",
      "          [-0.0118, -0.0275, -0.0353,  ..., -0.0588, -0.0510, -0.0588],\n",
      "          [-0.0275, -0.0510, -0.0275,  ..., -0.0667, -0.0667, -0.0510]],\n",
      "\n",
      "         [[-0.2392, -0.2549, -0.2549,  ..., -0.2941, -0.2941, -0.3020],\n",
      "          [-0.2549, -0.2706, -0.2627,  ..., -0.3490, -0.3490, -0.3490],\n",
      "          [-0.2549, -0.2706, -0.2706,  ..., -0.3490, -0.3569, -0.3569],\n",
      "          ...,\n",
      "          [-0.3020, -0.3176, -0.3255,  ..., -0.3569, -0.3490, -0.3569],\n",
      "          [-0.2941, -0.3255, -0.3490,  ..., -0.3647, -0.3569, -0.3647],\n",
      "          [-0.2941, -0.3333, -0.3255,  ..., -0.3725, -0.3647, -0.3490]],\n",
      "\n",
      "         [[ 0.1765,  0.1843,  0.1843,  ...,  0.1451,  0.1451,  0.1451],\n",
      "          [ 0.1686,  0.1843,  0.2000,  ...,  0.1373,  0.1294,  0.1294],\n",
      "          [ 0.1686,  0.1922,  0.2000,  ...,  0.1294,  0.1216,  0.1216],\n",
      "          ...,\n",
      "          [ 0.1686,  0.1765,  0.1686,  ...,  0.1373,  0.1451,  0.1373],\n",
      "          [ 0.1765,  0.1686,  0.1451,  ...,  0.1294,  0.1373,  0.1294],\n",
      "          [ 0.1608,  0.1451,  0.1608,  ...,  0.1216,  0.1294,  0.1373]]],\n",
      "\n",
      "\n",
      "        ...,\n",
      "\n",
      "\n",
      "        [[[ 1.0000,  1.0000,  1.0000,  ...,  1.0000,  1.0000,  1.0000],\n",
      "          [ 0.4902,  0.5216,  0.8118,  ...,  0.6784,  0.5451,  0.5373],\n",
      "          [-0.1373,  0.0353,  0.4745,  ...,  0.0039,  0.1373,  0.4196],\n",
      "          ...,\n",
      "          [ 0.0510, -0.3098, -0.0510,  ..., -0.5294, -0.5294, -0.5137],\n",
      "          [ 0.6235,  0.4980,  0.6784,  ...,  0.3647,  0.3569,  0.3725],\n",
      "          [ 1.0000,  1.0000,  1.0000,  ...,  1.0000,  1.0000,  1.0000]],\n",
      "\n",
      "         [[ 1.0000,  1.0000,  1.0000,  ...,  1.0000,  1.0000,  1.0000],\n",
      "          [ 0.4353,  0.4745,  0.7647,  ...,  0.6078,  0.4902,  0.4980],\n",
      "          [-0.2235, -0.0667,  0.3725,  ..., -0.1216,  0.0275,  0.3098],\n",
      "          ...,\n",
      "          [-0.0902, -0.3882, -0.1294,  ..., -0.6471, -0.6392, -0.6078],\n",
      "          [ 0.5686,  0.4667,  0.6392,  ...,  0.3255,  0.3255,  0.3412],\n",
      "          [ 1.0000,  1.0000,  1.0000,  ...,  1.0000,  1.0000,  1.0000]],\n",
      "\n",
      "         [[ 1.0000,  1.0000,  1.0000,  ...,  1.0000,  1.0000,  1.0000],\n",
      "          [ 0.3882,  0.4353,  0.7020,  ...,  0.5608,  0.4588,  0.4745],\n",
      "          [-0.2863, -0.1529,  0.2627,  ..., -0.1529, -0.0118,  0.2549],\n",
      "          ...,\n",
      "          [-0.2000, -0.4196, -0.1843,  ..., -0.5843, -0.5765, -0.5451],\n",
      "          [ 0.4980,  0.4196,  0.5765,  ...,  0.3412,  0.3412,  0.3647],\n",
      "          [ 1.0000,  1.0000,  1.0000,  ...,  1.0000,  1.0000,  1.0000]]],\n",
      "\n",
      "\n",
      "        [[[-0.1843, -0.1373,  0.0118,  ..., -0.3490, -0.3490, -0.3333],\n",
      "          [-0.2392, -0.1608, -0.1922,  ..., -0.6000, -0.6000, -0.5765],\n",
      "          [-0.1451, -0.2784, -0.4039,  ..., -0.6000, -0.6157, -0.5843],\n",
      "          ...,\n",
      "          [ 0.9216,  0.9529,  0.9843,  ...,  0.8745,  0.8588,  0.8196],\n",
      "          [ 0.9137,  0.9451,  0.9686,  ...,  0.9529,  0.9373,  0.9059],\n",
      "          [ 0.8980,  0.9137,  0.9294,  ...,  0.9451,  0.9451,  0.9294]],\n",
      "\n",
      "         [[-0.2078, -0.1765, -0.0431,  ..., -0.3804, -0.3804, -0.3647],\n",
      "          [-0.2863, -0.2235, -0.2549,  ..., -0.6471, -0.6471, -0.6157],\n",
      "          [-0.2000, -0.3255, -0.4510,  ..., -0.6549, -0.6627, -0.6314],\n",
      "          ...,\n",
      "          [ 0.9294,  0.9765,  1.0000,  ...,  0.9059,  0.8902,  0.8510],\n",
      "          [ 0.9216,  0.9686,  1.0000,  ...,  0.9843,  0.9765,  0.9451],\n",
      "          [ 0.9059,  0.9294,  0.9451,  ...,  0.9529,  0.9529,  0.9529]],\n",
      "\n",
      "         [[-0.1843, -0.1608, -0.0353,  ..., -0.3333, -0.3333, -0.3098],\n",
      "          [-0.2863, -0.2314, -0.2549,  ..., -0.5686, -0.5686, -0.5451],\n",
      "          [-0.2078, -0.3176, -0.4275,  ..., -0.5765, -0.5843, -0.5529],\n",
      "          ...,\n",
      "          [ 0.9608,  0.9922,  0.9922,  ...,  0.9529,  0.9373,  0.8902],\n",
      "          [ 0.9529,  0.9922,  1.0000,  ...,  0.9922,  0.9922,  0.9765],\n",
      "          [ 0.9294,  0.9529,  0.9608,  ...,  0.9529,  0.9529,  0.9529]]],\n",
      "\n",
      "\n",
      "        [[[ 0.6078,  0.4039,  0.4039,  ...,  0.1529,  0.1373,  0.5059],\n",
      "          [ 0.6627,  0.4353,  0.4275,  ...,  0.1451,  0.1686,  0.5294],\n",
      "          [ 0.6784,  0.4510,  0.4431,  ...,  0.1686,  0.2078,  0.5608],\n",
      "          ...,\n",
      "          [ 0.7961,  0.7020,  0.6784,  ..., -0.3569, -0.1765,  0.3020],\n",
      "          [ 0.8353,  0.7490,  0.7725,  ...,  0.2000,  0.2549,  0.5608],\n",
      "          [ 0.8745,  0.7490,  0.6549,  ...,  0.6627,  0.7020,  0.8510]],\n",
      "\n",
      "         [[ 0.5765,  0.3490,  0.3490,  ...,  0.0824,  0.0667,  0.4667],\n",
      "          [ 0.6314,  0.3804,  0.3725,  ...,  0.0745,  0.1059,  0.4902],\n",
      "          [ 0.6471,  0.3961,  0.3882,  ...,  0.1059,  0.1529,  0.5294],\n",
      "          ...,\n",
      "          [ 0.7804,  0.6706,  0.6471,  ..., -0.4196, -0.2471,  0.2706],\n",
      "          [ 0.8196,  0.7255,  0.7569,  ...,  0.1451,  0.2078,  0.5294],\n",
      "          [ 0.8588,  0.7255,  0.6235,  ...,  0.6392,  0.6784,  0.8431]],\n",
      "\n",
      "         [[ 0.4902,  0.2078,  0.2078,  ..., -0.0510, -0.0588,  0.4039],\n",
      "          [ 0.5451,  0.2392,  0.2314,  ..., -0.0510, -0.0196,  0.4275],\n",
      "          [ 0.5608,  0.2549,  0.2471,  ..., -0.0275,  0.0275,  0.4588],\n",
      "          ...,\n",
      "          [ 0.7176,  0.5765,  0.5373,  ..., -0.4980, -0.3176,  0.2157],\n",
      "          [ 0.7725,  0.6471,  0.6706,  ...,  0.0431,  0.1059,  0.4745],\n",
      "          [ 0.8431,  0.7020,  0.5843,  ...,  0.6078,  0.6471,  0.8196]]]]), tensor([2, 0, 0, 2, 0, 1, 0, 1, 1])]\n"
     ]
    }
   ],
   "source": [
    "for a in TRAIN_DL:\n",
    "    print(a)\n",
    "    break"
   ]
  },
  {
   "cell_type": "code",
   "execution_count": 12,
   "metadata": {},
   "outputs": [],
   "source": [
    "device = 'cpu'"
   ]
  },
  {
   "cell_type": "code",
   "execution_count": 13,
   "metadata": {},
   "outputs": [],
   "source": [
    "class CNN(nn.Module):\n",
    "    def __init__(self, num_classes):\n",
    "        super(CNN, self).__init__()\n",
    "        self.conv1 = nn.Conv2d(in_channels=3, out_channels=32, kernel_size=3, padding=1)\n",
    "        self.relu1 = nn.ReLU()\n",
    "        self.pool1 = nn.MaxPool2d(kernel_size=2, stride=2)\n",
    "\n",
    "        self.conv2 = nn.Conv2d(in_channels=32, out_channels=64, kernel_size=3, padding=1)\n",
    "        self.relu2 = nn.ReLU()\n",
    "        self.pool2 = nn.MaxPool2d(kernel_size=2, stride=2)\n",
    "\n",
    "        self.fc1 = nn.Linear(64 * 6 * 6, 128)\n",
    "        self.relu3 = nn.ReLU()\n",
    "        self.fc2 = nn.Linear(128, num_classes)\n",
    "\n",
    "    def forward(self, x):\n",
    "        x = self.conv1(x)\n",
    "        x = self.relu1(x)\n",
    "        x = self.pool1(x)\n",
    "\n",
    "        x = self.conv2(x)\n",
    "        x = self.relu2(x)\n",
    "        x = self.pool2(x)\n",
    "\n",
    "        x = x.view(x.size(0), -1)\n",
    "        x = self.fc1(x)\n",
    "        x = self.relu3(x)\n",
    "        x = self.fc2(x)\n",
    "        return x"
   ]
  },
  {
   "cell_type": "code",
   "execution_count": 14,
   "metadata": {},
   "outputs": [],
   "source": [
    "num_epochs = 20\n",
    "learning_rate = 0.001\n",
    "model = CNN(num_classes=3)  # Assuming you have 10 classes\n",
    "criterion = nn.CrossEntropyLoss()\n",
    "optimizer = torch.optim.AdamW(model.parameters(), lr=learning_rate)"
   ]
  },
  {
   "cell_type": "code",
   "execution_count": 15,
   "metadata": {},
   "outputs": [
    {
     "name": "stdout",
     "output_type": "stream",
     "text": [
      "Epoch [1/20], Train Loss: 1.1049, Train Accuracy: 0.4571, Valid Loss: 1.1257, Valid Accuracy: 0.2222\n",
      "Epoch [2/20], Train Loss: 0.9774, Train Accuracy: 0.4635, Valid Loss: 0.9755, Valid Accuracy: 0.5556\n",
      "Epoch [3/20], Train Loss: 0.9058, Train Accuracy: 0.5111, Valid Loss: 1.0177, Valid Accuracy: 0.4444\n",
      "Epoch [4/20], Train Loss: 0.8304, Train Accuracy: 0.6571, Valid Loss: 1.0024, Valid Accuracy: 0.2222\n",
      "Epoch [5/20], Train Loss: 0.7370, Train Accuracy: 0.6698, Valid Loss: 0.9056, Valid Accuracy: 0.5556\n",
      "Epoch [6/20], Train Loss: 0.6227, Train Accuracy: 0.7016, Valid Loss: 0.8840, Valid Accuracy: 0.5556\n",
      "Epoch [7/20], Train Loss: 0.5239, Train Accuracy: 0.7778, Valid Loss: 0.8142, Valid Accuracy: 0.5556\n",
      "Epoch [8/20], Train Loss: 0.4082, Train Accuracy: 0.8571, Valid Loss: 0.7535, Valid Accuracy: 0.5556\n",
      "Epoch [9/20], Train Loss: 0.3198, Train Accuracy: 0.9048, Valid Loss: 0.7861, Valid Accuracy: 0.6667\n",
      "Epoch [10/20], Train Loss: 0.2316, Train Accuracy: 0.9365, Valid Loss: 0.8051, Valid Accuracy: 0.6667\n",
      "Epoch [11/20], Train Loss: 0.1837, Train Accuracy: 0.9206, Valid Loss: 0.8390, Valid Accuracy: 0.6667\n",
      "Epoch [12/20], Train Loss: 0.1236, Train Accuracy: 0.9683, Valid Loss: 0.8315, Valid Accuracy: 0.6667\n",
      "Epoch [13/20], Train Loss: 0.1172, Train Accuracy: 0.9683, Valid Loss: 1.0368, Valid Accuracy: 0.5556\n",
      "Epoch [14/20], Train Loss: 0.0765, Train Accuracy: 0.9841, Valid Loss: 1.2348, Valid Accuracy: 0.4444\n",
      "Epoch [15/20], Train Loss: 0.0715, Train Accuracy: 1.0000, Valid Loss: 1.0244, Valid Accuracy: 0.5556\n",
      "Epoch [16/20], Train Loss: 0.0464, Train Accuracy: 0.9841, Valid Loss: 1.1147, Valid Accuracy: 0.5556\n",
      "Epoch [17/20], Train Loss: 0.0334, Train Accuracy: 1.0000, Valid Loss: 1.4049, Valid Accuracy: 0.5556\n",
      "Epoch [18/20], Train Loss: 0.0224, Train Accuracy: 1.0000, Valid Loss: 1.3121, Valid Accuracy: 0.5556\n",
      "Epoch [19/20], Train Loss: 0.0168, Train Accuracy: 1.0000, Valid Loss: 1.3944, Valid Accuracy: 0.5556\n",
      "Epoch [20/20], Train Loss: 0.0114, Train Accuracy: 1.0000, Valid Loss: 1.6754, Valid Accuracy: 0.4444\n"
     ]
    }
   ],
   "source": [
    "for epoch in range(num_epochs):\n",
    "    model.train()\n",
    "    train_loss = 0.0\n",
    "    train_accuracy = 0.0\n",
    "\n",
    "    for inputs, labels in TRAIN_DL:\n",
    "        inputs = inputs.to(device)\n",
    "        labels = labels.to(device)\n",
    "        optimizer.zero_grad()\n",
    "        outputs = model(inputs)\n",
    "        loss = criterion(outputs, labels)\n",
    "        loss.backward()\n",
    "        optimizer.step()\n",
    "\n",
    "        train_loss += loss.item()\n",
    "        _, predicted = torch.max(outputs.data, 1)\n",
    "        train_accuracy += (predicted == labels).sum().item() / labels.size(0)\n",
    "        torch.save(model.state_dict(), 'albumart_model.pth')  # Add this line after training \n",
    "\n",
    "\n",
    "    model.eval()\n",
    "    valid_loss = 0.0\n",
    "    valid_accuracy = 0.0\n",
    "\n",
    "    with torch.no_grad():\n",
    "        for inputs, labels in VALID_DL:\n",
    "            inputs = inputs.to(device)\n",
    "            labels = labels.to(device)\n",
    "            outputs = model(inputs)\n",
    "            loss = criterion(outputs, labels)\n",
    "            valid_loss += loss.item()\n",
    "            _, predicted = torch.max(outputs.data, 1)\n",
    "            valid_accuracy += (predicted == labels).sum().item() / labels.size(0)\n",
    "\n",
    "    print(f'Epoch [{epoch+1}/{num_epochs}], Train Loss: {train_loss/len(TRAIN_DL):.4f}, Train Accuracy: {train_accuracy/len(TRAIN_DL):.4f}, Valid Loss: {valid_loss/len(VALID_DL):.4f}, Valid Accuracy: {valid_accuracy/len(VALID_DL):.4f}')\n"
   ]
  },
  {
   "cell_type": "code",
   "execution_count": 16,
   "metadata": {},
   "outputs": [
    {
     "name": "stdout",
     "output_type": "stream",
     "text": [
      "Test Loss: 2.7859, Test Accuracy: 0.4365\n"
     ]
    }
   ],
   "source": [
    "model.eval()\n",
    "test_loss = 0.0\n",
    "test_accuracy = 0.0\n",
    "\n",
    "with torch.no_grad():\n",
    "    for inputs, labels in TEST_DL:\n",
    "        inputs = inputs.to(device)\n",
    "        labels = labels.to(device)\n",
    "        outputs = model(inputs)\n",
    "        loss = criterion(outputs, labels)\n",
    "        test_loss += loss.item()\n",
    "        _, predicted = torch.max(outputs.data, 1)\n",
    "        test_accuracy += (predicted == labels).sum().item() / labels.size(0)\n",
    "\n",
    "print(f'Test Loss: {test_loss/len(TEST_DL):.4f}, Test Accuracy: {test_accuracy/len(TEST_DL):.4f}')"
   ]
  },
  {
   "cell_type": "code",
   "execution_count": null,
   "metadata": {},
   "outputs": [],
   "source": []
  },
  {
   "cell_type": "code",
   "execution_count": null,
   "metadata": {},
   "outputs": [],
   "source": []
  },
  {
   "cell_type": "code",
   "execution_count": null,
   "metadata": {},
   "outputs": [],
   "source": []
  },
  {
   "cell_type": "code",
   "execution_count": null,
   "metadata": {},
   "outputs": [],
   "source": []
  },
  {
   "cell_type": "code",
   "execution_count": null,
   "metadata": {},
   "outputs": [],
   "source": []
  },
  {
   "cell_type": "code",
   "execution_count": null,
   "metadata": {},
   "outputs": [],
   "source": []
  },
  {
   "cell_type": "code",
   "execution_count": null,
   "metadata": {},
   "outputs": [],
   "source": []
  },
  {
   "cell_type": "code",
   "execution_count": null,
   "metadata": {},
   "outputs": [],
   "source": []
  }
 ],
 "metadata": {
  "kernelspec": {
   "display_name": "Torch_NLP38",
   "language": "python",
   "name": "python3"
  },
  "language_info": {
   "codemirror_mode": {
    "name": "ipython",
    "version": 3
   },
   "file_extension": ".py",
   "mimetype": "text/x-python",
   "name": "python",
   "nbconvert_exporter": "python",
   "pygments_lexer": "ipython3",
   "version": "3.8.19"
  }
 },
 "nbformat": 4,
 "nbformat_minor": 2
}
